{
 "cells": [
  {
   "cell_type": "code",
   "execution_count": 1,
   "metadata": {},
   "outputs": [],
   "source": [
    "import csv\n",
    "from pathlib import Path"
   ]
  },
  {
   "cell_type": "code",
   "execution_count": 2,
   "metadata": {},
   "outputs": [],
   "source": [
    "budget_file_to_load = Path(\"Resources/budget_data.csv\")\n",
    "file_to_output = Path(\"Resources/financial_analysis.txt\")"
   ]
  },
  {
   "cell_type": "code",
   "execution_count": 3,
   "metadata": {},
   "outputs": [],
   "source": [
    "total_months = 0\n",
    "net_total_profits = 0\n",
    "avg_change_profit = []\n",
    "greatest_increase = [\"\", 0]\n",
    "greatest_decrease = [\"\", 999999]# i dont remember going over this[\"\", 999999],[\"\", 0] in the lesson, my tutor helped me figure out\n",
    "\n"
   ]
  },
  {
   "cell_type": "code",
   "execution_count": 4,
   "metadata": {},
   "outputs": [],
   "source": [
    "# Read the csv and convert it into a list of dictionaries\n",
    "with open(budget_file_to_load) as file:\n",
    "    csvreader = csv.reader(file)\n",
    "    #read header row\n",
    "    header = next(csvreader)\n",
    "    #remove first row\n",
    "    first_row = next(csvreader)\n",
    "    total_months += 1\n",
    "    net_total_ = net_total_profits + int(first_row[1])\n",
    "    prev_net = int(first_row[1])\n",
    "    \n",
    "    for row in csvreader:\n",
    "        \n",
    "        total_months += 1\n",
    "        net_total_profit = net_total_profits + int(row[1])\n",
    "        avg_change = int(row[1]) - prev_net\n",
    "        prev_net = int(row[1])\n",
    "        avg_change_profit.append(avg_change)\n",
    "\n",
    "\n",
    "        #the greatest increase\n",
    "        if avg_change > greatest_increase[1]:\n",
    "            greatest_increase[0] = row[0]\n",
    "            greatest_increase[1] = avg_change\n",
    "\n",
    "        #calulculTWE THE GREATEST decrease\n",
    "        if avg_change < greatest_decrease[1]:\n",
    "            greatest_decrease[0] = row[0]\n",
    "            greatest_decrease[1] = avg_change\n",
    "\n",
    "\n",
    "# Calculate the Average Net Change\n",
    "net_monthly_avg = round(sum(avg_change_profit) / len(avg_change_profit), 2)     "
   ]
  },
  {
   "cell_type": "code",
   "execution_count": 5,
   "metadata": {},
   "outputs": [
    {
     "name": "stdout",
     "output_type": "stream",
     "text": [
      "financial analysis:\n",
      "total months: 86\n",
      "\n",
      "total net: 671099\n",
      "\n",
      "Average Change: $ -2315\n",
      "Greatest Increase: Feb-2012, $1926159\n",
      "Greatest Decrease: Sep-2013, $-2196167\n"
     ]
    }
   ],
   "source": [
    "# Print Statements\n",
    "print(\"financial analysis:\")\n",
    "print(f\"total months: {total_months}\\n\")\n",
    "print(f\"total net: {net_total_profit}\\n\")\n",
    "print(\"Average Change: $\", round(net_monthly_avg))  \n",
    "print(f\"Greatest Increase: {greatest_increase[0]}, ${greatest_increase[1]}\")\n",
    "print(f\"Greatest Decrease: {greatest_decrease[0]}, ${greatest_decrease[1]}\")\n"
   ]
  },
  {
   "cell_type": "code",
   "execution_count": 7,
   "metadata": {},
   "outputs": [],
   "source": [
    "with open(file_to_output, \"w\") as txt_file:\n",
    "    txt_file.write(f\"financial analysis:\\n\")\n",
    "    txt_file.write(f\"total months: {total_months}\\n\")\n",
    "    txt_file.write(f\"total net: {net_total_profit}\\n\")\n",
    "    txt_file.write(f\"Greatest Increase: {greatest_increase[0]}, ${greatest_increase[1]}\\n\")\n",
    "    txt_file.write(f\"Greatest Decrease: {greatest_decrease[0]}, ${greatest_decrease[1]}\\n\")\n",
    "    \n",
    "    "
   ]
  },
  {
   "cell_type": "code",
   "execution_count": null,
   "metadata": {},
   "outputs": [],
   "source": []
  },
  {
   "cell_type": "code",
   "execution_count": null,
   "metadata": {},
   "outputs": [],
   "source": []
  }
 ],
 "metadata": {
  "kernelspec": {
   "display_name": "Python 3",
   "language": "python",
   "name": "python3"
  },
  "language_info": {
   "codemirror_mode": {
    "name": "ipython",
    "version": 3
   },
   "file_extension": ".py",
   "mimetype": "text/x-python",
   "name": "python",
   "nbconvert_exporter": "python",
   "pygments_lexer": "ipython3",
   "version": "3.7.6"
  },
  "widgets": {
   "application/vnd.jupyter.widget-state+json": {
    "state": {},
    "version_major": 2,
    "version_minor": 0
   }
  }
 },
 "nbformat": 4,
 "nbformat_minor": 4
}
